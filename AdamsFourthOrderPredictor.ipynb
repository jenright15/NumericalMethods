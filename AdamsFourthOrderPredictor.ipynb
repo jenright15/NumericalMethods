{
 "cells": [
  {
   "cell_type": "code",
   "execution_count": 99,
   "metadata": {},
   "outputs": [],
   "source": [
    "import numpy as np\n",
    "import sympy as sp"
   ]
  },
  {
   "cell_type": "markdown",
   "metadata": {},
   "source": [
    "# Algorithm 5.4 -- Adams Fourth-Order Predictor-Corrector"
   ]
  },
  {
   "cell_type": "code",
   "execution_count": 100,
   "metadata": {},
   "outputs": [],
   "source": [
    "def adams(a,b,N,alpha):\n",
    "    # Step 1\n",
    "    h = (b-a)/N\n",
    "    t = np.zeros((N+1))\n",
    "    t[0] = a\n",
    "    w = np.zeros((N-1))\n",
    "    w[0] = alpha\n",
    "    print(t[0], w[0])\n",
    "\n",
    "    # Step 2, computing values using Range-Kutta Method\n",
    "    for i in range(1,4):\n",
    "        # Step 3\n",
    "        k1 = h*f(t[i - 1], w[i-1])\n",
    "        k2 = h*f(t[i-1]+h/2, w[i-1]+k1/2)\n",
    "        k3 = h*f(t[i-1]+h/2, w[i-1]+k2/2)\n",
    "        k4 = h*f(t[i-1]+h, w[i-1]+k3)\n",
    "        # Step 4\n",
    "        w[i] = w[i-1] + (k1+(2*k2)+(2*k3)+k4)/6\n",
    "        t[i] = a+i*h\n",
    "        \n",
    "        # Step 5\n",
    "        print(t[i], w[i])\n",
    "    # Step 6 \n",
    "    for i in range(4,N+1):\n",
    "        # Step 7\n",
    "        T = a+i*h\n",
    "        W = w[3] + h*(55*f(t[3],w[3])-59*f(t[2],w[2])+37*f(t[1],w[1])-9*f(t[0],w[0]))/24\n",
    "        W = w[3] + h*(9*f(T,W)+19*f(t[3],w[3])-5*f(t[2],w[2])+f(t[1],w[1]))/24\n",
    "        \n",
    "        #Step 8\n",
    "        print(T, W)\n",
    "        # Step 9\n",
    "        for j in range(0,3):\n",
    "            t[j] = t[j+1]\n",
    "            w[j] = w[j+1]\n",
    "        # Step 10    \n",
    "        t[3] = T\n",
    "        t[3] = W"
   ]
  },
  {
   "cell_type": "markdown",
   "metadata": {},
   "source": [
    "# Exercise Set 5.6, Question 8"
   ]
  },
  {
   "cell_type": "code",
   "execution_count": 101,
   "metadata": {},
   "outputs": [
    {
     "data": {
      "text/latex": [
       "$\\displaystyle \\frac{- 2 t y + 2}{t^{2} + 1}$"
      ],
      "text/plain": [
       "(-2*t*y + 2)/(t**2 + 1)"
      ]
     },
     "execution_count": 101,
     "metadata": {},
     "output_type": "execute_result"
    }
   ],
   "source": [
    "y=sp.symbols('y')\n",
    "t=sp.symbols('t')\n",
    "y1 = (2-2*t*y)/(t**2+1)\n",
    "y1"
   ]
  },
  {
   "cell_type": "markdown",
   "metadata": {},
   "source": [
    "Using initial conditions 0 < t < 1, y(0) = 1, h = 0.1, actual solution y(t) = (2t + 1)/(t^2 + 1)"
   ]
  },
  {
   "cell_type": "code",
   "execution_count": 102,
   "metadata": {},
   "outputs": [],
   "source": [
    "\n",
    "def f(t,y):\n",
    "    return (-2*t*y +2)/(t**2+1)"
   ]
  },
  {
   "cell_type": "code",
   "execution_count": 103,
   "metadata": {},
   "outputs": [
    {
     "name": "stdout",
     "output_type": "stream",
     "text": [
      "0.0 1.0\n",
      "0.1 1.1881187646752684\n",
      "0.2 1.3461536085579304\n",
      "0.30000000000000004 1.467889340629606\n",
      "0.4 1.551698430920776\n",
      "0.5 1.4171412789606863\n",
      "0.6000000000000001 1.4333654243661356\n",
      "0.7000000000000001 1.426160074078586\n",
      "0.8 1.417484854714353\n",
      "0.9 1.412408895749496\n",
      "1.0 1.4082516059101704\n"
     ]
    }
   ],
   "source": [
    "adams(0,1,10,1) # N = 10 because h = 0.1 is given"
   ]
  },
  {
   "cell_type": "code",
   "execution_count": 104,
   "metadata": {},
   "outputs": [],
   "source": [
    "# Getting errors from y_true\n",
    "def f_true(t,y):\n",
    "    return (2*t+1)/(t**2+1)"
   ]
  },
  {
   "cell_type": "code",
   "execution_count": 105,
   "metadata": {},
   "outputs": [
    {
     "data": {
      "text/plain": [
       "1.0"
      ]
     },
     "execution_count": 105,
     "metadata": {},
     "output_type": "execute_result"
    }
   ],
   "source": [
    "f_true(0,1)"
   ]
  },
  {
   "cell_type": "code",
   "execution_count": 106,
   "metadata": {},
   "outputs": [
    {
     "data": {
      "text/plain": [
       "1.188118811881188"
      ]
     },
     "execution_count": 106,
     "metadata": {},
     "output_type": "execute_result"
    }
   ],
   "source": [
    "f_true(0.1,1)"
   ]
  },
  {
   "cell_type": "code",
   "execution_count": 107,
   "metadata": {},
   "outputs": [
    {
     "data": {
      "text/plain": [
       "1.346153846153846"
      ]
     },
     "execution_count": 107,
     "metadata": {},
     "output_type": "execute_result"
    }
   ],
   "source": [
    "f_true(0.2,1)"
   ]
  },
  {
   "cell_type": "code",
   "execution_count": 108,
   "metadata": {},
   "outputs": [
    {
     "data": {
      "text/plain": [
       "1.6176470588235297"
      ]
     },
     "execution_count": 108,
     "metadata": {},
     "output_type": "execute_result"
    }
   ],
   "source": [
    "f_true(0.6,1)"
   ]
  },
  {
   "cell_type": "code",
   "execution_count": null,
   "metadata": {},
   "outputs": [],
   "source": []
  },
  {
   "cell_type": "code",
   "execution_count": null,
   "metadata": {},
   "outputs": [],
   "source": []
  }
 ],
 "metadata": {
  "kernelspec": {
   "display_name": "Python 3",
   "language": "python",
   "name": "python3"
  },
  "language_info": {
   "codemirror_mode": {
    "name": "ipython",
    "version": 3
   },
   "file_extension": ".py",
   "mimetype": "text/x-python",
   "name": "python",
   "nbconvert_exporter": "python",
   "pygments_lexer": "ipython3",
   "version": "3.8.3"
  }
 },
 "nbformat": 4,
 "nbformat_minor": 4
}
